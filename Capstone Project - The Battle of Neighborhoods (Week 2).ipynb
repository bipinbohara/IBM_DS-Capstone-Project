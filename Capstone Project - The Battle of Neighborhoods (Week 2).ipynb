{
 "cells": [
  {
   "cell_type": "markdown",
   "metadata": {
    "collapsed": true
   },
   "source": [
    "# Introduction"
   ]
  },
  {
   "cell_type": "markdown",
   "metadata": {},
   "source": [
    "New York City's demographics show that it is a large and ethnically diverse metropolis. It is the largest city in the United States with a long history of international immigration. New York City was home to nearly 8.5 million people in 2018, accounting for over 40% of the population of New York State and a slightly lower percentage of the New York metropolitan area, home to approximately 23.6 million. Over the last decade the city has been growing faster than the region. The New York region continues to be by far the leading metropolitan gateway for legal immigrants admitted into the United States.\n",
    "\n",
    "This final project explores the best locations for Nepalese restaurants throughout the city of New York. As New York is the most diverse city in the world (800 languages are spoken in New York), it has a long tradition of different ethnical restaurants. Now when the idea of a healthy lifestyle conquered the minds of people all over the country, Nepalsese restaurants became extremely popular, as they offer a healthy alternative to regular American eating habits. That's why Potentially the owner of the new East European restaurant can have great success and consistent profit. However, as with any business, opening a new restaurant requires serious considerations and is more complicated than it seems from the first glance. In particular, the location of the restaurant is one of the most important factors that will affect whether it will have success or a failure. So our project will attempt to answer the questions “Where should the investor open a Nepalese Restaurant?” and “Where should I go If I want great Nepalese food?”"
   ]
  },
  {
   "cell_type": "markdown",
   "metadata": {},
   "source": [
    "## Data"
   ]
  },
  {
   "cell_type": "markdown",
   "metadata": {},
   "source": [
    "In order to answer the above questions, data on New York City neighborhoods, boroughs to include boundaries, latitude, longitude, restaurants, and restaurant ratings and tips are required.\n",
    "\n",
    "New York City data containing the neighborhoods and boroughs, latitudes, and longitudes will be obtained from the data source: https://cocl.us/new_york_dataset\n",
    "\n",
    "All data related to locations and quality of Italian restaurants will be obtained via the FourSquare API utilized via the Request library in Python."
   ]
  },
  {
   "cell_type": "markdown",
   "metadata": {},
   "source": [
    "## Methodology"
   ]
  },
  {
   "cell_type": "markdown",
   "metadata": {},
   "source": [
    "• Data will be collected from https://cocl.us/new_york_dataset and cleaned and processed into a dataframe.\n",
    "\n",
    "• FourSquare be used to locate all venues and then filtered by Nepalese restaurants. Ratings, tips, and likes by users will be counted and added to the dataframe.\n",
    "\n",
    "• Data will be sorted based on rankings.\n",
    "\n",
    "• Finally, the data be will be visually assessed using graphing from Python libraries."
   ]
  },
  {
   "cell_type": "markdown",
   "metadata": {},
   "source": [
    "## Problem Statement"
   ]
  },
  {
   "cell_type": "markdown",
   "metadata": {},
   "source": [
    "1. What is / are the best location(s) for Nepalese cuisine in New York City?\n",
    "2. In what Neighborhood and/or borough should the investor open a Nepalese restaurant to have the best chance of being successful?\n",
    "3. Where would I go in New York City to have the best Nepalese food?"
   ]
  },
  {
   "cell_type": "markdown",
   "metadata": {},
   "source": [
    "\n",
    "## Before we get the data and start exploring it, let's import all required libraries ."
   ]
  },
  {
   "cell_type": "code",
   "execution_count": null,
   "metadata": {},
   "outputs": [],
   "source": [
    "import numpy as np # library to handle data in a vectorized manner\n",
    "\n",
    "import pandas as pd # library for data analsysis\n",
    "pd.set_option('display.max_columns', None)\n",
    "pd.set_option('display.max_rows', None)\n",
    "\n",
    "import requests # library to handle requests\n",
    "\n",
    "#from bs4 import BeautifulSoup\n",
    "import os\n",
    "\n",
    "#!conda install -c conda-forge folium=0.5.0 --yes\n",
    "import folium # map rendering library\n",
    "\n",
    "#!conda install -c conda-forge geopy --yes\n",
    "from geopy.geocoders import Nominatim # convert an address into latitude and longitude values\n",
    "import requests # library to handle requests\n",
    "\n",
    "# Matplotlib and associated plotting modules\n",
    "import matplotlib.pyplot as plt\n",
    "import matplotlib.cm as cm\n",
    "import matplotlib.colors as colors\n",
    "%matplotlib inline\n",
    "\n",
    "import seaborn as sns\n",
    "\n",
    "print('Libraries imported.')  "
   ]
  },
  {
   "cell_type": "markdown",
   "metadata": {},
   "source": [
    "## My variables"
   ]
  },
  {
   "cell_type": "code",
   "execution_count": null,
   "metadata": {},
   "outputs": [],
   "source": [
    "# Define Foursquare Credentials and Version\n",
    "\n",
    "CLIENT_ID = 'MXF2MFT3425WEAWBBMYZ4UK2XOZMCXKGIAYDSFAIEJXWB234' # your Foursquare ID\n",
    "CLIENT_SECRET = 'OTHEKBG2CRTMGUP55D4TSFWPEXPWLBY30CZQE2YOAESDALKK' # your Foursquare Secret\n",
    "VERSION = '20180605' # Foursquare API version"
   ]
  },
  {
   "cell_type": "markdown",
   "metadata": {},
   "source": [
    "## Now let's define the functions we are going to use later in this project"
   ]
  },
  {
   "cell_type": "code",
   "execution_count": null,
   "metadata": {},
   "outputs": [],
   "source": [
    "def geo_location(address):\n",
    "    # get geo location of address\n",
    "    geolocator = Nominatim(user_agent=\"foursquare_agent\")\n",
    "    location = geolocator.geocode(address)\n",
    "    latitude = location.latitude\n",
    "    longitude = location.longitude\n",
    "    return latitude,longitude\n",
    "\n",
    "\n",
    "def get_venues(lat,lng):\n",
    "    #set variables\n",
    "    radius=400\n",
    "    LIMIT=100\n",
    "    #url to fetch data from foursquare api\n",
    "    url = 'https://api.foursquare.com/v2/venues/explore?&client_id={}&client_secret={}&v={}&ll={},{}&radius={}&limit={}'.format(\n",
    "            CLIENT_ID, \n",
    "            CLIENT_SECRET, \n",
    "            VERSION, \n",
    "            lat, \n",
    "            lng, \n",
    "            radius, \n",
    "            LIMIT)\n",
    "    # get all the data\n",
    "    results = requests.get(url).json()\n",
    "    venue_data=results['response']['groups'][0]['items']\n",
    "    venue_details=[]\n",
    "    for row in venue_data:\n",
    "        try:\n",
    "            venue_id=row['venue']['id']\n",
    "            venue_name=row['venue']['name']\n",
    "            venue_category=row['venue']['categories'][0]['name']\n",
    "            venue_details.append([venue_id,venue_name,venue_category])\n",
    "        except KeyError:\n",
    "            pass\n",
    "    column_names=['ID','Name','Category']\n",
    "    df = pd.DataFrame(venue_details,columns=column_names)\n",
    "    return df\n",
    "\n",
    "\n",
    "def get_venue_details(venue_id):\n",
    "    #url to fetch data from foursquare api\n",
    "    url = 'https://api.foursquare.com/v2/venues/{}?&client_id={}&client_secret={}&v={}'.format(\n",
    "            venue_id,\n",
    "            CLIENT_ID, \n",
    "            CLIENT_SECRET, \n",
    "            VERSION)\n",
    "    # get all the data\n",
    "    results = requests.get(url).json()\n",
    "    print(results)\n",
    "    venue_data=results['response']['venue']\n",
    "    venue_details=[]\n",
    "    try:\n",
    "        venue_id=venue_data['id']\n",
    "        venue_name=venue_data['name']\n",
    "        venue_likes=venue_data['likes']['count']\n",
    "        venue_rating=venue_data['rating']\n",
    "        venue_tips=venue_data['tips']['count']\n",
    "        venue_details.append([venue_id,venue_name,venue_likes,venue_rating,venue_tips])\n",
    "    except KeyError:\n",
    "        pass\n",
    "    column_names=['ID','Name','Likes','Rating','Tips']\n",
    "    df = pd.DataFrame(venue_details,columns=column_names)\n",
    "    return df\n",
    "\n",
    "\n",
    "def get_new_york_data():\n",
    "    url='https://cocl.us/new_york_dataset'\n",
    "    resp=requests.get(url).json()\n",
    "    # all data is present in features label\n",
    "    features=resp['features']\n",
    "    # define the dataframe columns\n",
    "    column_names = ['Borough', 'Neighborhood', 'Latitude', 'Longitude'] \n",
    "    # instantiate the dataframe\n",
    "    new_york_data = pd.DataFrame(columns=column_names)\n",
    "    for data in features:\n",
    "        borough = data['properties']['borough'] \n",
    "        neighborhood_name = data['properties']['name']\n",
    "        neighborhood_latlon = data['geometry']['coordinates']\n",
    "        neighborhood_lat = neighborhood_latlon[1]\n",
    "        neighborhood_lon = neighborhood_latlon[0]\n",
    "        new_york_data = new_york_data.append({'Borough': borough,\n",
    "                                          'Neighborhood': neighborhood_name,\n",
    "                                          'Latitude': neighborhood_lat,\n",
    "                                          'Longitude': neighborhood_lon}, ignore_index=True)\n",
    "    return new_york_data"
   ]
  },
  {
   "cell_type": "markdown",
   "metadata": {},
   "source": [
    "## Now let's use the above codes to get our initial NYC data"
   ]
  },
  {
   "cell_type": "code",
   "execution_count": null,
   "metadata": {},
   "outputs": [],
   "source": [
    "ny_data = get_new_york_data()\n",
    "ny_data.head()"
   ]
  },
  {
   "cell_type": "code",
   "execution_count": null,
   "metadata": {},
   "outputs": [],
   "source": [
    "ny_data.shape"
   ]
  },
  {
   "cell_type": "markdown",
   "metadata": {},
   "source": [
    "So there are total of 306 different Neighborhoods in New York.  "
   ]
  },
  {
   "cell_type": "markdown",
   "metadata": {},
   "source": [
    "## Initial Data Analysis"
   ]
  },
  {
   "cell_type": "markdown",
   "metadata": {},
   "source": [
    "Now let's analyze our initial data. "
   ]
  },
  {
   "cell_type": "code",
   "execution_count": null,
   "metadata": {},
   "outputs": [],
   "source": [
    "clr = \"green\"\n",
    "ny_data.groupby('Borough')['Neighborhood'].count().plot.bar(figsize=(10,5), color=clr)\n",
    "plt.title('Neighborhoods per Borough: NYC', fontsize = 20)\n",
    "plt.xlabel('Borough', fontsize = 15)\n",
    "plt.ylabel('No. Neighborhoods',fontsize = 15)\n",
    "plt.xticks(rotation = 'horizontal')\n",
    "plt.legend()\n",
    "plt.show()"
   ]
  },
  {
   "cell_type": "markdown",
   "metadata": {},
   "source": [
    "## Let's analyze further and see how many Nepalese restaurants there are in each neighborhood and borough. After it, graph the results."
   ]
  },
  {
   "cell_type": "code",
   "execution_count": null,
   "metadata": {},
   "outputs": [],
   "source": [
    "# queens has most neighborhoods\n",
    "# prepare neighborhood list that contains nepalese restaurants\n",
    "column_names=['Borough', 'Neighborhood', 'ID','Name']\n",
    "nepalese_rest_ny=pd.DataFrame(columns=column_names)\n",
    "count=1\n",
    "for row in ny_data.values.tolist():\n",
    "    Borough, Neighborhood, Latitude, Longitude=row\n",
    "    venues = get_venues(Latitude,Longitude)\n",
    "    nepalese_restaurants=venues[venues['Category']=='Nepalese Restaurant']   \n",
    "    print('(',count,'/',len(ny_data),')','Nepalese Restaurants in '+Neighborhood+', '+Borough+':'+str(len(nepalese_restaurants)))\n",
    "    print(row)\n",
    "    for resturant_detail in nepalese_restaurants.values.tolist():\n",
    "        id, name , category=resturant_detail\n",
    "        nepalese_rest_ny = nepalese_rest_ny.append({'Borough': Borough,\n",
    "                                                'Neighborhood': Neighborhood, \n",
    "                                                'ID': id,\n",
    "                                                'Name' : name\n",
    "                                               }, ignore_index=True)\n",
    "    count+=1"
   ]
  },
  {
   "cell_type": "code",
   "execution_count": null,
   "metadata": {},
   "outputs": [],
   "source": [
    "#nepalese_rest_ny.to_csv('nepalese_rest_ny_tocsv1.csv') # Save the information so far to a .csv file due to limited calls on FourSquare\n",
    "nepalese_rest_ny.to_csv('nepalese_rest_ny_tocsv1.csv') "
   ]
  },
  {
   "cell_type": "code",
   "execution_count": null,
   "metadata": {},
   "outputs": [],
   "source": [
    "nepalese_ny = pd.read_csv('nepalese_rest_ny_tocsv1.csv')\n",
    "nepalese_rest_ny.tail()"
   ]
  },
  {
   "cell_type": "code",
   "execution_count": null,
   "metadata": {},
   "outputs": [],
   "source": [
    "nepalese_rest_ny.shape"
   ]
  },
  {
   "cell_type": "markdown",
   "metadata": {},
   "source": [
    "We got 75 Nepalese Restaurants across the New York City. "
   ]
  },
  {
   "cell_type": "markdown",
   "metadata": {},
   "source": [
    "As we continue our analysis, we see below that although Manhattan had the least number of neighborhoods, it does have the highest number of Nepalese restaurants. Additionally, we see how many restaurants the top 6 neighborhoods have. The neighborhood of Murray Hill has the highest number of Nepalese restaurants in all of NYC and is actually located in the boroughs of Manhattan and Queens."
   ]
  },
  {
   "cell_type": "code",
   "execution_count": null,
   "metadata": {},
   "outputs": [],
   "source": [
    "nepalese_rest_ny.groupby('Borough')['ID'].count().plot.bar(figsize=(10,5), color=clr)\n",
    "plt.title('Nepalese Restaurants per Borough: NYC', fontsize = 20)\n",
    "plt.xlabel('Borough', fontsize = 15)\n",
    "plt.ylabel('No. of Nepalese Restaurants', fontsize=15)\n",
    "plt.xticks(rotation = 'horizontal')\n",
    "plt.legend()\n",
    "plt.show()"
   ]
  },
  {
   "cell_type": "code",
   "execution_count": null,
   "metadata": {},
   "outputs": [],
   "source": [
    "NOofNeigh = 6 # top number for graphing all the same past 6\n",
    "nepalese_rest_ny.groupby('Neighborhood')['ID'].count().nlargest(NOofNeigh).plot.bar(figsize=(10,5), color=clr)\n",
    "plt.title('Nepalese Restaurants per Neighborhood: NYC', fontsize = 20)\n",
    "plt.xlabel('Neighborhood', fontsize = 15)\n",
    "plt.ylabel('No. of Nepalese Restaurants', fontsize=15)\n",
    "plt.xticks(rotation = 'horizontal')\n",
    "plt.legend()\n",
    "plt.show()"
   ]
  },
  {
   "cell_type": "code",
   "execution_count": null,
   "metadata": {},
   "outputs": [],
   "source": [
    "nepalese_rest_ny[nepalese_rest_ny['Neighborhood']=='Flatiron']"
   ]
  },
  {
   "cell_type": "markdown",
   "metadata": {},
   "source": [
    "So the Murray Hill in Manhattan has the highest number of Nepalese Restaurants with a total count of 5."
   ]
  },
  {
   "cell_type": "markdown",
   "metadata": {},
   "source": [
    "Now we will get the ranking of each restaurant for further analysis."
   ]
  },
  {
   "cell_type": "code",
   "execution_count": null,
   "metadata": {},
   "outputs": [],
   "source": [
    "column_names=['Borough', 'Neighborhood', 'ID','Name','Likes','Rating','Tips']\n",
    "nepalese_rest_stats_ny=pd.DataFrame(columns=column_names)\n",
    "count=1\n",
    "for row in nepalese_rest_ny.values.tolist():\n",
    "    Borough,Neighborhood,ID,Name=row\n",
    "    try:\n",
    "        venue_details=get_venue_details(ID)\n",
    "        print(venue_details)\n",
    "        id,name,likes,rating,tips=venue_details.values.tolist()[0]\n",
    "    except IndexError:\n",
    "        print('No data available for id=',ID)\n",
    "        # we will assign 0 value for these resturants as they may have been \n",
    "        #recently opened or details does not exist in FourSquare Database\n",
    "        id,name,likes,rating,tips=[0]*5\n",
    "    print('(',count,'/',len(nepalese_rest_ny),')','processed')\n",
    "    nepalese_rest_stats_ny = nepalese_rest_stats_ny.append({'Borough': Borough,\n",
    "                                                'Neighborhood': Neighborhood, \n",
    "                                                'ID': id,\n",
    "                                                'Name' : name,\n",
    "                                                'Likes' : likes,\n",
    "                                                'Rating' : rating,\n",
    "                                                'Tips' : tips\n",
    "                                               }, ignore_index=True)\n",
    "    count+=1\n",
    "nepalese_rest_stats_ny.tail()"
   ]
  },
  {
   "cell_type": "code",
   "execution_count": null,
   "metadata": {},
   "outputs": [],
   "source": [
    "nepalese_rest_stats_ny.to_csv('nepalese_rest_stats_ny_csv.csv') # As I move through this project I continue to save data to a .csv file "
   ]
  },
  {
   "cell_type": "code",
   "execution_count": null,
   "metadata": {},
   "outputs": [],
   "source": [
    "nepalese_rest_stats_ny.shape"
   ]
  },
  {
   "cell_type": "markdown",
   "metadata": {},
   "source": [
    "We got statistics for all 77 Nepalese Restaurants in New York city. "
   ]
  },
  {
   "cell_type": "markdown",
   "metadata": {},
   "source": [
    "Let's check what values we have in our DataFrame"
   ]
  },
  {
   "cell_type": "code",
   "execution_count": null,
   "metadata": {},
   "outputs": [],
   "source": [
    "nepalese_rest_stats_ny.info()"
   ]
  },
  {
   "cell_type": "markdown",
   "metadata": {},
   "source": [
    "We see that the values like Likes, Tips are string values. We would need to convert them into float for further analysis"
   ]
  },
  {
   "cell_type": "code",
   "execution_count": null,
   "metadata": {},
   "outputs": [],
   "source": [
    "nepalese_rest_stats_ny['Likes'] = nepalese_rest_stats_ny['Likes'].astype('float64')\n",
    "nepalese_rest_stats_ny['Tips'] = nepalese_rest_stats_ny['Tips'].astype('float64')\n",
    "nepalese_rest_stats_ny.info()"
   ]
  },
  {
   "cell_type": "markdown",
   "metadata": {},
   "source": [
    "## Now when the data types look correct, let's continue our analysis."
   ]
  },
  {
   "cell_type": "code",
   "execution_count": null,
   "metadata": {},
   "outputs": [],
   "source": [
    "nepalese_rest_stats_ny.describe()"
   ]
  },
  {
   "cell_type": "code",
   "execution_count": null,
   "metadata": {},
   "outputs": [],
   "source": [
    "# Resturant with maximum Likes\n",
    "nepalese_rest_stats_ny.iloc[nepalese_rest_stats_ny['Likes'].idxmax()]"
   ]
  },
  {
   "cell_type": "code",
   "execution_count": null,
   "metadata": {},
   "outputs": [],
   "source": [
    "# Resturant with maximum Ratings\n",
    "nepalese_rest_stats_ny.iloc[nepalese_rest_stats_ny['Rating'].idxmax()]"
   ]
  },
  {
   "cell_type": "code",
   "execution_count": null,
   "metadata": {},
   "outputs": [],
   "source": [
    "# Resturant with maximum Tips\n",
    "nepalese_rest_stats_ny.iloc[nepalese_rest_stats_ny['Tips'].idxmax()]"
   ]
  },
  {
   "cell_type": "markdown",
   "metadata": {},
   "source": [
    "## Now let's identify and visualize neighborhood with the maximum average rating of restaurants"
   ]
  },
  {
   "cell_type": "code",
   "execution_count": null,
   "metadata": {},
   "outputs": [],
   "source": [
    "ny_neighborhood_stats=nepalese_rest_stats_ny.groupby('Neighborhood',as_index=False).mean()[['Neighborhood','Rating']]\n",
    "ny_neighborhood_stats.columns=['Neighborhood','Average Rating']\n",
    "ny_neighborhood_stats.sort_values(['Average Rating'],ascending=False).head(10)"
   ]
  },
  {
   "cell_type": "markdown",
   "metadata": {},
   "source": [
    "Above are the top neighborhoods with the highest average ratings of Nepalese restaurants."
   ]
  },
  {
   "cell_type": "code",
   "execution_count": null,
   "metadata": {},
   "outputs": [],
   "source": [
    "ny_borough_stats=nepalese_rest_stats_ny.groupby('Borough',as_index=False).mean()[['Borough','Rating']]\n",
    "ny_borough_stats.columns=['Borough','Average Rating']\n",
    "ny_borough_stats.sort_values(['Average Rating'],ascending=False).head()"
   ]
  },
  {
   "cell_type": "markdown",
   "metadata": {},
   "source": [
    "Similarly these are the average ratings of Nepalese Restaurants for each Borough"
   ]
  },
  {
   "cell_type": "markdown",
   "metadata": {},
   "source": [
    "## Let's visualize the results"
   ]
  },
  {
   "cell_type": "code",
   "execution_count": null,
   "metadata": {},
   "outputs": [],
   "source": [
    "plt.figure(figsize=(9,5), dpi = 100)\n",
    "plt.title('Average rating of Nepalese Restaurants for each Borough')\n",
    "plt.xlabel('Borough', fontsize = 15)\n",
    "plt.ylabel('Average Rating', fontsize=15)\n",
    "nepalese_rest_stats_ny.groupby('Borough').mean()['Rating'].plot(kind='bar', color=clr)\n",
    "plt.legend()\n",
    "plt.show()"
   ]
  },
  {
   "cell_type": "markdown",
   "metadata": {},
   "source": [
    "We will consider all the neighborhoods with average rating greater or equal 8.0 to visualize on a map"
   ]
  },
  {
   "cell_type": "code",
   "execution_count": null,
   "metadata": {},
   "outputs": [],
   "source": [
    "ny_neighborhood_stats=ny_neighborhood_stats[ny_neighborhood_stats['Average Rating']>=8.0]\n",
    "ny_neighborhood_stats"
   ]
  },
  {
   "cell_type": "markdown",
   "metadata": {},
   "source": [
    "We will join this Dataset to original New York data to get longitude and latitude"
   ]
  },
  {
   "cell_type": "code",
   "execution_count": null,
   "metadata": {},
   "outputs": [],
   "source": [
    "ny_neighborhood_stats=pd.merge(ny_neighborhood_stats,ny_data, on='Neighborhood')\n",
    "ny_neighborhood_stats=ny_neighborhood_stats[['Borough','Neighborhood','Latitude','Longitude','Average Rating']]\n",
    "ny_neighborhood_stats"
   ]
  },
  {
   "cell_type": "markdown",
   "metadata": {},
   "source": [
    "Now we will show this data on a map"
   ]
  },
  {
   "cell_type": "code",
   "execution_count": null,
   "metadata": {},
   "outputs": [],
   "source": [
    "# create map and display it\n",
    "ny_map = folium.Map(location=geo_location('New York'), zoom_start=12)\n",
    "# instantiate a feature group for the ratings in the dataframe\n",
    "rating = folium.map.FeatureGroup()\n",
    "\n",
    "# loop through the ratings and add each to the neighborhood feature group\n",
    "for lat, lng, in ny_neighborhood_stats[['Latitude','Longitude']].values:\n",
    "    rating.add_child(\n",
    "        folium.CircleMarker(\n",
    "            [lat, lng],\n",
    "            radius=10, # define how big you want the circle markers to be\n",
    "            color='yellow',\n",
    "            fill=True,\n",
    "            fill_color='blue',\n",
    "            fill_opacity=0.6\n",
    "        )\n",
    "    )"
   ]
  },
  {
   "cell_type": "markdown",
   "metadata": {},
   "source": [
    "Let's add a new field to dataframe for labeling purpose"
   ]
  },
  {
   "cell_type": "code",
   "execution_count": null,
   "metadata": {},
   "outputs": [],
   "source": [
    "ny_neighborhood_stats['Label']=ny_neighborhood_stats['Neighborhood']+', '+ny_neighborhood_stats['Borough']+'('+ny_neighborhood_stats['Average Rating'].map(str)+')'\n",
    "# add pop-up text to each marker on the map\n",
    "for lat, lng, label in ny_neighborhood_stats[['Latitude','Longitude','Label']].values:\n",
    "    folium.Marker([lat, lng], popup=label).add_to(ny_map)        \n",
    "# add ratings to map\n",
    "ny_map.add_child(rating)"
   ]
  },
  {
   "cell_type": "markdown",
   "metadata": {},
   "source": [
    "## Results / Conclusion \n",
    "\n",
    "Manhattan and Brooklyn have the best rated Nepalese restaurants on average. Staten Island and The Bronx have the least amount of Nepalese restaurants per borough. However, of note, Murray Hill in Manhattan has the highest number of Nepalese Restaurants in all of NY. Despite Manhattan having the least number of neighborhoods in all five boroughs, it has the most number of Nepalese restaurants. Based on the above information, I would state that Manhattan and Brooklyn are the best locations for Nepalese cuisine in NYC. To have the best shot of success, I would open a Nepalese restaurant in Brooklyn. Brooklyn has multiple neighborhoods with average ratings exceeding 8.0 on a scale of 1.0 to 10.0 and has less amount of Nepalese restaurants than Manhattan, making competition easier. Also we should keep in mind, that real estate prices in Brooklyn are much cheaper than in Manhattan. Finally, I would go to OOTOYA in Manhattan for the best Nepalese food based on 1213 likes. As a final note, all of the above analysis is depended on the accuracy of Four Square data. A more comprehensive analysis and future work would need to incorporate data from other external databases."
   ]
  },
  {
   "cell_type": "code",
   "execution_count": null,
   "metadata": {},
   "outputs": [],
   "source": []
  }
 ],
 "metadata": {
  "kernelspec": {
   "display_name": "Python 3",
   "language": "python",
   "name": "python3"
  },
  "language_info": {
   "codemirror_mode": {
    "name": "ipython",
    "version": 3
   },
   "file_extension": ".py",
   "mimetype": "text/x-python",
   "name": "python",
   "nbconvert_exporter": "python",
   "pygments_lexer": "ipython3",
   "version": "3.7.7"
  }
 },
 "nbformat": 4,
 "nbformat_minor": 1
}
